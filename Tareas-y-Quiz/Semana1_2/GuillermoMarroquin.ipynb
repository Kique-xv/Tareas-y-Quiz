{
 "cells": [
  {
   "cell_type": "markdown",
   "id": "5ad8356f",
   "metadata": {},
   "source": [
    "# Actividades Capítulo 2.\n",
    "\n",
    "\n",
    "# Concepto básico de programación e inicio en Python\n",
    "\n",
    "## Resumen de actividades\n",
    "\n",
    "- **Unidad 10.** Tipos de datos lista y tupla Tipos de datos lista y tupla\n",
    "- **Unidad 11.** Tipos de datos de diccionario Tipos de datos de diccionario\n",
    "- **Unidad 12.** Tipos de datos de secuencia\n",
    "- **Unidad 13.** Listas 2D\n",
    "- **Unidad 14.** Método del diccionario-1\n",
    "- **Unidad 15.** Método del diccionario-2\n",
    "- **Unidad 16.** Establecer tipos de datos\n"
   ]
  },
  {
   "cell_type": "markdown",
   "id": "8c5aa9c8",
   "metadata": {},
   "source": [
    "# Actividad: Creación de una Base de Datos en Python\n",
    "\n",
    "## Descripción\n",
    "\n",
    "A continuación debes crear una base de datos simple utilizando listas en Python. Una base de datos es una colección de datos organizados que se utilizan para almacenar y recuperar información. En este caso, simularemos una base de datos de estudiantes con información básica.\n",
    "\n",
    "## Instrucciones\n",
    "\n",
    "1. Crea un programa en Python que permita a los usuarios realizar las siguientes acciones:\n",
    "\n",
    "   a. Agregar un nuevo estudiante a la base de datos. Cada estudiante debe tener al menos un nombre, un número de identificación y una edad. Puedes utilizar una lista para almacenar estos datos.\n",
    "\n",
    "   b. Mostrar la lista de estudiantes en la base de datos.\n",
    "\n",
    "   c. Buscar un estudiante por su número de identificación y mostrar su información.\n",
    "\n",
    "   d. Actualizar la información de un estudiante existente en la base de datos.\n",
    "\n",
    "   e. Eliminar un estudiante de la base de datos.\n",
    "\n",
    "2. Utiliza listas de Python para almacenar la información de los estudiantes. Por ejemplo, puedes crear una lista de diccionarios, donde cada diccionario representa un estudiante con sus datos.\n",
    "\n",
    "3. Ofrece un menú interactivo que permita a los usuarios elegir las acciones que desean realizar en la base de datos.\n",
    "\n",
    "4. Implementa la lógica necesaria para cada acción, como agregar, buscar, actualizar o eliminar estudiantes.\n",
    "\n",
    "## Ejemplo de Base de Datos\n",
    "\n",
    "A continuación, se muestra un ejemplo de cómo podría verse una base de datos de estudiantes utilizando listas y diccionarios:\n",
    "\n",
    "```python\n",
    "base_de_datos = [\n",
    "    {\"nombre\": \"Juan\", \"id\": 1, \"edad\": 20},\n",
    "    {\"nombre\": \"María\", \"id\": 2, \"edad\": 22},\n",
    "    {\"nombre\": \"Carlos\", \"id\": 3, \"edad\": 21}\n",
    "]\n",
    "\n",
    "Desarrolle el código en la siguiente lista."
   ]
  },
  {
   "cell_type": "code",
   "execution_count": 24,
   "id": "90cd2e33",
   "metadata": {},
   "outputs": [
    {
     "name": "stdout",
     "output_type": "stream",
     "text": [
      "Ejercicio 1 inciso a\n",
      "Ejercicio 1 inciso b\n",
      "[{'nombre': 'Enrique', 'apellido': 'Marroquin', 'carnet': '202103527'}, {'nombre': 'Luis', 'apellido': 'Damian', 'carnet': '202205001'}, {'nombre': 'Deniss', 'apellido': 'Perez', 'carnet': '201912402'}]\n",
      "Ejercicio 1 inciso c\n",
      "Estudiante encontrado:  {'nombre': 'Enrique', 'apellido': 'Marroquin', 'carnet': '202103527'}\n",
      "Estudiante no encontrado.\n",
      "--------------------------------\n",
      "Ejercicio 1 inciso d\n",
      "Estudiante modificado:  [{'nombre': 'Guillermo', 'apellido': 'Marroquin', 'carnet': '202103527'}, {'nombre': 'Luis', 'apellido': 'Damian', 'carnet': '202205001'}, {'nombre': 'Deniss', 'apellido': 'Perez', 'carnet': '201912402'}]\n",
      "--------------------------------\n",
      "Ejercicio 1 inciso e\n",
      "Estudiante eliminado:  [{'nombre': 'Guillermo', 'apellido': 'Marroquin', 'carnet': '202103527'}, {'nombre': 'Luis', 'apellido': 'Damian', 'carnet': '202205001'}]\n",
      "--------------------------------\n",
      "Ejercicio 2 inciso b\n",
      "Menu principal :D\n",
      "Seleccione una opcion:\n",
      "1. Agregar estudiante\n",
      "2. Mostrar lista de estudiantes\n",
      "3. Buscar estudiante por carnet\n",
      "4. Modificar estudiante\n",
      "5. Eliminar estudiante\n",
      "6. Salir\n",
      "Lista de estudiantes:\n",
      "{'nombre': 'Luis', 'apellido': 'Rodriguez', 'carnet': '202389660'}\n",
      "{'nombre': 'Mario', 'apellido': 'MULSULMAN', 'carnet': '203082660'}\n",
      "{'nombre': 'LUIGI', 'apellido': 'Hitler', 'carnet': '203145678'}\n",
      "BYE BYEEEEEE :D\n",
      "--------------------------------\n"
     ]
    }
   ],
   "source": [
    "#Recuerde agregar comentarios donde se describa el funcionamiento de las diferentes secciones.\n",
    "#Este es el ejercicio 1 \n",
    "#autor: Enrique Marroquin\n",
    "#EJERCICIO 1\n",
    "#Inciso a\n",
    "print(\"Ejercicio 1 inciso a\")\n",
    "BaseDeDatos = [\n",
    "    {\"nombre\": \"Enrique\", \"apellido\": \"Marroquin\", \"carnet\": \"202103527\"},\n",
    "    {\"nombre\": \"Luis\", \"apellido\": \"Damian\", \"carnet\": \"202205001\"},\n",
    "    {\"nombre\": \"Deniss\", \"apellido\": \"Perez\", \"carnet\": \"201912402\"}\n",
    "]\n",
    "\n",
    "print(\"Ejercicio 1 inciso b\")\n",
    "print(BaseDeDatos)\n",
    "\n",
    "#inciso c\n",
    "print(\"Ejercicio 1 inciso c\")\n",
    "input_Carnet = input(\"Ingrese el carnet del estudiante que quieras buscar: \") #Aca pedimos el carnet que queremos buscar\n",
    "for Carnet in BaseDeDatos:\n",
    "    if Carnet[\"carnet\"] == input_Carnet:\n",
    "        print(\"Estudiante encontrado: \", Carnet)\n",
    "else:\n",
    "    print(\"Estudiante no encontrado.\")\n",
    "print(\"--------------------------------\")\n",
    "\n",
    "\n",
    "#Inciso d\n",
    "print(\"Ejercicio 1 inciso d\")\n",
    "BaseDeDatos[0][\"nombre\"] = \"Guillermo\" #Cambiamos el nombre del primer estudiante osea yo :P\n",
    "print(\"Estudiante modificado: \", BaseDeDatos)\n",
    "print(\"--------------------------------\")\n",
    "\n",
    "#Inciso e\n",
    "print(\"Ejercicio 1 inciso e\")\n",
    "del BaseDeDatos[2]\n",
    "print(\"Estudiante eliminado: \", BaseDeDatos)\n",
    "print(\"--------------------------------\")\n",
    "\n",
    "#EJERCICIO 2\n",
    "\n",
    "print(\"Ejercicio 2 inciso b\")\n",
    "print(\"Menu principal :D\")\n",
    "print(\"Seleccione una opcion:\")\n",
    "print(\"1. Agregar estudiante\")\n",
    "print(\"2. Mostrar lista de estudiantes\")\n",
    "print(\"3. Buscar estudiante por carnet\")\n",
    "print(\"4. Modificar estudiante\")\n",
    "print(\"5. Eliminar estudiante\")\n",
    "print(\"6. Salir\")\n",
    "\n",
    "# Verificar si Lista_Estudiantes existe, si no, se incializa como una lista vacía\n",
    "if 'Lista_Estudiantes' not in globals():# por alguna razon no me dejaba correr el codigo sin esto :(\n",
    "    Lista_Estudiantes = []\n",
    "while True:\n",
    "    opcion = input(\"Ingrese una opcion (1-5): \")#un bucle que se repite hasta que se elija la opcion 6\n",
    "    if opcion == \"1\": #queria usar switch pero python no lo tiene, java si lo tiene...\n",
    "        input_Lista_Estudiantes = int(input(\"Ingrese la cantidad de estudiantes que desea agregar a la lista: \")) #asi mas facil no?\n",
    "        for i in range(input_Lista_Estudiantes):\n",
    "            nombre = input(\"Ingrese el nombre del estudiante: \")\n",
    "            apellido = input(\"Ingrese el apellido del estudiante: \")\n",
    "            carnet = input(\"Ingrese el carnet del estudiante: \")\n",
    "            estudiante = {\"nombre\": nombre, \"apellido\": apellido, \"carnet\": carnet}\n",
    "            Lista_Estudiantes.append(estudiante)\n",
    "    elif opcion == \"2\": #eso del elif es como un if pero para varias opciones, y lo encontre en yutube, las presentaciones de steam :D\n",
    "        print(\"Lista de estudiantes:\")\n",
    "        for estudiante in Lista_Estudiantes:\n",
    "            print(estudiante)\n",
    "    elif opcion == \"3\":\n",
    "        input_Carnet_Buscar = input(\"Ingrese el carnet del estudiante que quieras buscar: \")\n",
    "        for Carnet in Lista_Estudiantes:\n",
    "            if Carnet[\"carnet\"] == input_Carnet_Buscar:\n",
    "                print(\"Estudiante encontrado: \", Carnet)\n",
    "                break\n",
    "        else:\n",
    "            print(\"Estudiante no encontrado.\")\n",
    "    elif opcion == \"4\":\n",
    "        input_Carnet_Modificar = input(\"Ingrese el carnet del estudiante que quieras modificar: \")\n",
    "        for estudiante in Lista_Estudiantes:\n",
    "            if estudiante[\"carnet\"] == input_Carnet_Modificar:\n",
    "                nuevo_nombre = input(\"Ingrese el nuevo nombre del estudiante: \")\n",
    "                nuevo_apellido = input(\"Ingrese el nuevo apellido del estudiante: \")\n",
    "                estudiante[\"nombre\"] = nuevo_nombre\n",
    "                estudiante[\"apellido\"] = nuevo_apellido\n",
    "                print(\"Estudiante modificado: \", estudiante)\n",
    "                break\n",
    "        else:\n",
    "            print(\"Estudiante no encontrado.\")\n",
    "    elif opcion == \"5\":\n",
    "        input_Carnet_Eliminar = input(\"Ingrese el carnet del estudiante a quien quieras eliminar: \")\n",
    "        for i, estudiante in enumerate(Lista_Estudiantes):\n",
    "            if estudiante[\"carnet\"] == input_Carnet_Eliminar:\n",
    "                del Lista_Estudiantes[i]\n",
    "                print(\"El estudiante se ha eliminado.\")\n",
    "                print(\"Lista actualizada: \", Lista_Estudiantes)\n",
    "                break\n",
    "        else:\n",
    "            print(\"Estudiante no encontrado.\")\n",
    "    elif opcion == \"6\":\n",
    "        print(\"BYE BYEEEEEE :D\")\n",
    "        break\n",
    "    else:\n",
    "        print(\"Opcion no valida, pon un numero del 1 al 6 :P\")\n",
    "\n",
    "print(\"--------------------------------\")\n"
   ]
  },
  {
   "cell_type": "markdown",
   "id": "a11871f3",
   "metadata": {},
   "source": [
    "# Actividad: Rebanado de listas.\n",
    "\n",
    "Revisa la unidad 10,sección 5.3 aparece un resumen de los comandos para tomar secciones de una lista, aplica los comandos en la siguiente lista:\n",
    "\n",
    "\n",
    "list_notas = [15, 21, 24, 40, 13, 14, 18, 17, 14.5]\n",
    "\n"
   ]
  },
  {
   "cell_type": "code",
   "execution_count": 32,
   "id": "1e7a5371",
   "metadata": {},
   "outputs": [
    {
     "name": "stdout",
     "output_type": "stream",
     "text": [
      "[15, 24, 13, 18, 14.5]\n",
      "[21]\n",
      "[14.5, 17, 18, 14, 13, 40, 24, 21, 15]\n",
      "[40, 13, 14, 18]\n",
      "[15]\n",
      "[15, 21, 24, 40, 13, 14, 18, 17, 14.5]\n",
      "[15, 21, 24, 40, 13, 14, 18]\n"
     ]
    }
   ],
   "source": [
    "# Espacio para desarrollar las pruebas, si tienes alguna duda o comentario adicional\n",
    "# lo puedes dejar planteado acá.\n",
    "\n",
    "list_notas = [15, 21, 24, 40, 13, 14, 18, 17, 14.5]\n",
    "list_notas[::2]\n",
    "\n",
    "print(list_notas[::2]) #Imprime la lista desde el indice 0 hasta el final, en 2 en 2\n",
    "print(list_notas[1:2]) #Imprime la lista desde el indice 1 hasta el 1\n",
    "print(list_notas[::-1]) #Imprime la lista en orden inverso\n",
    "print(list_notas[3:7]) #Imprime la lista desde el indice 3 hasta el 6\n",
    "print(list_notas[:-8])#Imprime la lista desde el final hasta el segundo elemento \n",
    "print(list_notas[0:])#Imprime la lista desde el inicio hasta el final\n",
    "print(list_notas[:7])#Imprime la lista desde el inicio hasta el final\n",
    "\n",
    "\n",
    "\n",
    "\n",
    "\n",
    "\n",
    "\n",
    "\n"
   ]
  },
  {
   "cell_type": "markdown",
   "id": "a207d974",
   "metadata": {},
   "source": [
    "\n",
    "# Actividad: Diferentes métodos usados en listas.\n",
    "\n",
    "De la unidad 10, sección 6.3 revise los métodos disponibles para usar sobre las listas.\n",
    "\n",
    "Aplique los métodos disponibles sobre la lista mostrada en la siguiente celda. \n",
    "\n",
    "Nota: usando el método **sort()** ordene de mayor a menor y viceversa (Si es necesario revise documentación adicional relacionada sobre este método)\n"
   ]
  },
  {
   "cell_type": "code",
   "execution_count": null,
   "id": "b4ac1d5a",
   "metadata": {},
   "outputs": [
    {
     "data": {
      "text/plain": [
       "[40, 24, 21, 18, 17, 15, 14.5, 14, 13, 13]"
      ]
     },
     "execution_count": 22,
     "metadata": {},
     "output_type": "execute_result"
    }
   ],
   "source": [
    "# Aplique los métodos disponibles y agregue comentarios breves sobre su funcinamiento.\n",
    "\n",
    "list_notas = [15, 21, 24, 40, 13, 14, 18, 13, 17, 14.5]\n",
    "# Espacio para desarrollo del código y comentarios.\n",
    "\n",
    "list_notas.sort() #Ordena la lista de menor a mayor\n",
    "print(list_notas)\n",
    "list_notas.reverse() #Ordena la lista de mayor a menor\n",
    "list_notas.append(19) #Agrega un elemento al final de la lista\n",
    "print(list_notas)\n",
    "list_notas.insert(2, 22) #Agrega un elemento en la posicion 2\n",
    "print(list_notas)\n",
    "list_notas.remove(13) #Elimina el PRIMER elemento con el valor 13 \n",
    "print(list_notas)\n",
    "list_notas.count(14) #Cuenta cuantas veces aparece el 14 en la lista\n",
    "list_notas.pop(14.5) #Elimina el ultimo elemento de la lista\n",
    "print(list_notas)\n",
    "\n",
    "\n",
    "\n",
    "\n",
    "\n",
    "\n",
    "\n",
    "\n",
    "\n",
    "\n",
    "\n",
    "\n",
    "\n"
   ]
  },
  {
   "cell_type": "markdown",
   "id": "26a6bb9e",
   "metadata": {},
   "source": [
    "# Actividad: Crear diccionarios y guardarlos como archivo JSON.\n",
    "\n",
    "De la unidad 11 sección 4.6 revise el ejemplo mostrado.\n",
    "\n",
    "Genera un diccionario, sobre la información que deseas guardar como base de datos, desarrollo el código necesario para generar el archivo JSON, y también el código para cargar la información del archivo JSON.\n"
   ]
  },
  {
   "cell_type": "code",
   "execution_count": 35,
   "id": "6670eace",
   "metadata": {},
   "outputs": [
    {
     "name": "stdout",
     "output_type": "stream",
     "text": [
      "{\"Carne de cerdo\": 50, \"Carne de res\": 80, \"Carne de pollo\": 40}\n",
      "{'Carne de cerdo': 50, 'Carne de res': 80, 'Carne de pollo': 40}\n",
      "{'Carne de cerdo': 50, 'Carne de res': 80, 'Carne de pollo': 40}\n",
      "80\n"
     ]
    }
   ],
   "source": [
    "# Espacio para desarrollar el código.\n",
    "\n",
    "import json\n",
    "\n",
    "Carniceria = {\"Carne de cerdo\": 50, \"Carne de res\": 80, \"Carne de pollo\": 40} #sip me dio hambre...\n",
    "Carniceria_json = json.dumps(Carniceria)\n",
    "print(Carniceria_json)\n",
    "\n",
    "with open(\"Carniceria.json\", \"w\") as archivo_json:\n",
    "    json.dump(Carniceria, archivo_json) #con esto guardamos el diccionario en un archivo json\n",
    "\n",
    "with open(\"Carniceria.json\", \"r\") as archivo_json: #con esto leemos el archivo json y lo convertimos en un diccionario\n",
    "    datos = json.load(archivo_json)\n",
    "    print(datos)\n",
    "\n",
    "Carniceria = json.loads(Carniceria_json) #con esto convertimos el json en un diccionario \n",
    "print(Carniceria)\n",
    "print(Carniceria[\"Carne de res\"]) #con esto accedemos al valor de la carne de res mm yomi\n",
    "\n",
    "\n",
    "\n",
    "\n",
    "\n",
    "\n",
    "\n",
    "\n",
    "\n"
   ]
  },
  {
   "cell_type": "markdown",
   "id": "fbfb4985",
   "metadata": {},
   "source": [
    "# Actividad: Creación y manejo de tuplas.\n",
    "\n",
    "## Instrucciones\n",
    "\n",
    "1. Escriba una diferencia entre las tuplas y las listas.\n",
    "2. Crear una tupla con varios elementos.\n",
    "3. Usar el operador in para verificar si la tuple contiene determinado elemento.\n"
   ]
  },
  {
   "cell_type": "code",
   "execution_count": null,
   "id": "fc5b1a43",
   "metadata": {},
   "outputs": [],
   "source": [
    "# Espacio para desarrollar el código siguiendo las instrucciones.\n",
    "\n",
    "tup = (1, 2, 3, 4, 5)\n",
    "lista_frutas = [\"manzana\", \"banana\", \"cereza\", \"uva\", \"piña\", \"tomate\"] #agregue tomate porque es una fruta :P\n",
    "\n",
    "print(\"En una tupla no se pueden modificar de ninguna manera, a diferencia de una lista que si se puede\")\n",
    "print(\"Tupla: \", tup)\n",
    "print(\"Lista: \", lista_frutas)\n",
    "\n",
    "# Verificar si un elemento está en la tupla\n",
    "print(\"¿Está el número 2 en la tupla?\", 2 in tup)\n",
    "\n",
    "# Verificar si una fruta está en la lista\n",
    "print(\"¿Está 'aguacate' en la lista de frutas?\", \"aguacate\" in lista_frutas)\n",
    "\n",
    "\n",
    "\n",
    "\n"
   ]
  },
  {
   "cell_type": "markdown",
   "id": "98938d2d",
   "metadata": {},
   "source": [
    "# Actividad: Revisión y manejo de listas bidimensionales.\n",
    "\n",
    "## Instrucciones\n",
    "\n",
    "1. Describa brevemente que entiende por lista bidimensional.\n",
    "2. Crear una lista bidimensional.\n",
    "3. Generar un doble loop para acceder de la lista bidimensional\n",
    "4. Sumar todo los elementos de esta lista bidimensional."
   ]
  },
  {
   "cell_type": "code",
   "execution_count": null,
   "id": "a35ef1b7",
   "metadata": {},
   "outputs": [
    {
     "name": "stdout",
     "output_type": "stream",
     "text": [
      "Una lista bidimensional es una lista que puede tener una o mas listas dentro de ella, puede ser utilizada para representar matrices o tablas de datos, muy efectivas :D\n",
      "[['Amarillo', 'Azul', 'Rojo'], ['Verde', 'Naranja', 'Morado'], ['Dorado', 'Plateado', 'Negro']]\n",
      "Amarillo Azul Rojo \n",
      "Verde Naranja Morado \n",
      "Dorado Plateado Negro \n",
      "[['Amarillo', 'Azul', 'Rojo'], ['Verde', 'Naranja', 'Morado'], ['Dorado', 'Plateado', 'Negro']]\n"
     ]
    }
   ],
   "source": [
    "# Espacio para desarrollar el código, escriba comentarias breves para explicar su funcionamiento.\n",
    "print(\"Una lista bidimensional es una lista que puede tener una o mas listas dentro de ella, puede ser utilizada para representar matrices o tablas de datos, muy efectivas :D\")\n",
    "\n",
    "list_color = [[\"Amarillo\", \"Azul\", \"Rojo\"], [\"Verde\", \"Naranja\", \"Morado\"], [\"Dorado\", \"Plateado\", \"Negro\"]] #Lista bidimensional con 3 listas dentro de ella, lo que seria una matriz de 3x3\n",
    "print(list_color)\n",
    "for i in list_color:\n",
    "    for j in i:\n",
    "        print(j, end=\" \")\n",
    "    print()\n",
    "print(list_color)\n",
    "#como no se puede sumar cadenas de texto, no se puede sumar una lista bidimensional, o bueno la que hice no"
   ]
  },
  {
   "cell_type": "markdown",
   "id": "4261fa65",
   "metadata": {},
   "source": [
    "# Actividad: Revision de los métodos usados en el manejo de diccionarios.\n",
    "\n",
    "## Instrucciones\n",
    "\n",
    "1. Crear un diccionario.\n",
    "2. Testear los siguientes métodos para el majeo de diccionarios get(), keys(), values(), items(), pop(), clear()\n",
    "3. Agregar un breve comentario sobre su funcionamiento."
   ]
  },
  {
   "cell_type": "code",
   "execution_count": null,
   "id": "2f5887bb",
   "metadata": {},
   "outputs": [
    {
     "name": "stdout",
     "output_type": "stream",
     "text": [
      "{'alcremie': 'hada', 'applin': 'planta/dragon', 'arctovish': 'agua/hielo', 'basculegion': 'agua', 'blipbug': 'bicho', 'calyrex': 'psiquico/planta', 'carkol': 'roca/fuego', 'charcadet': 'fuego', 'clobbopus': 'lucha', 'cufant': 'acero'}\n",
      "{'alcremie': 'hada', 'applin': 'planta/dragon', 'arctovish': 'agua/hielo', 'basculegion': 'agua', 'calyrex': 'psiquico/planta', 'carkol': 'roca/fuego', 'charcadet': 'fuego', 'clobbopus': 'lucha', 'cufant': 'acero'}\n",
      "{}\n"
     ]
    }
   ],
   "source": [
    "# Espacio para desarrollar el código.\n",
    "\n",
    "Diccionario_pokemon = {\"alcremie\": \"hada\", \"applin\": \"planta/dragon\", \"arctovish\": \"agua/hielo\", \"basculegion\": \"agua\", \"blipbug\": \"bicho\", \"calyrex\": \"psiquico/planta\", \"carkol\": \"roca/fuego\", \"charcadet\": \"fuego\", \"clobbopus\": \"lucha\", \"cufant\": \"acero\"} #Diccionario con 10 pokemon y sus tipos, sip lo busque en wikidex \n",
    "print(Diccionario_pokemon)\n",
    "Diccionario_pokemon.get(\"alcremie\") #con esto accedemos al valor de alcremie que es hada puro\n",
    "Diccionario_pokemon.keys() #con esto accedemos a las llaves del diccionario, osea los nombres de los pokemon\n",
    "Diccionario_pokemon.values() #con esto accedemos a los valores del diccionario, osea los tipos de los pokemon\n",
    "Diccionario_pokemon.items() #con esto accedemos a los items del diccionario\n",
    "Diccionario_pokemon.pop(\"blipbug\") #con esto eliminamos el item blipbug del diccionario\n",
    "print(Diccionario_pokemon)\n",
    "Diccionario_pokemon.clear() #con esto eliminamos todos los items del diccionario\n",
    "print(Diccionario_pokemon)"
   ]
  }
 ],
 "metadata": {
  "kernelspec": {
   "display_name": "Python 3",
   "language": "python",
   "name": "python3"
  },
  "language_info": {
   "codemirror_mode": {
    "name": "ipython",
    "version": 3
   },
   "file_extension": ".py",
   "mimetype": "text/x-python",
   "name": "python",
   "nbconvert_exporter": "python",
   "pygments_lexer": "ipython3",
   "version": "3.9.6"
  }
 },
 "nbformat": 4,
 "nbformat_minor": 5
}
